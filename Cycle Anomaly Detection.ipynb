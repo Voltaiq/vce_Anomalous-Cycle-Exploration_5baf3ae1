{
 "cells": [
  {
   "cell_type": "markdown",
   "id": "5a86c4cc-572d-4143-857d-16f62567ee9b",
   "metadata": {
    "tags": []
   },
   "source": [
    "# **Anomalous Cycle Exploration Script**\n",
    "## Overview:\n",
    "The Anomalous Cycle Exploration Script is a tool designed as a framework for identifying and exploring tests with anomalous cycle data. This script uses sklearn's 'LocalOutlerFactor' module to detect which cycles have anomalous cycle statistic data. It then allows you to see which cycles/cycle statistics are anomalous for a given test, plot the per cycle statistics with and without the anomalous data, and plot the timeseries data for a given cycle on the test record. The data for the script can be selected from a set of curated public datasets hosted on Voltaiq Community, or can be selected from a custom search criteria.\n",
    "\n",
    "*Note that the current implementation does not optimize the anomaly detection using LocalOutlierFactor - this is an opportunity for improvement and can lead to false positives (e.g. detection of anomalies when none are present) for some test records.*\n",
    "\n",
    "## Running the Script Details:\n",
    "- Run the code blocks from top to bottom\n",
    "    - All imports are done in the first cell - all functions and analysis is contained in utils.py - this file must be located in the same directory as this Jupyter Notebook\n",
    "- After running the final code block you will be prompted to choose a dataset for analysis:\n",
    "    - Choose from a curated dataset, or 'Custom'\n",
    "    - If 'Custom' is chosen you will need to fill in a search criteria. An example search criteria is pre-entered to help with exploration\n",
    "    - Note that the first dataset is chosen by default\n",
    "- Following the dataset choice, you should see 3 additional drop downs:\n",
    "    - From the 'Test:' dropdown, you can select which test you wish to analyze\n",
    "    - From either of the two 'Remove Cycles' dropdowns you can select to remove cycles from analysis from the begining and/or end of the test\n",
    "- The table will display all cycles which contain anomalous data for one or more of the cycle statistics\n",
    "    - The analytic is analyzing the following cycle statistics calculated by Voltaiq: </br>\n",
    "        *Discharge Capacity*, *Charge Capacity*, *Discharge Energy*, *Charge Energy*, *Coulombic Efficiency*, *Total Charge Time*, *Total Discharge Time*, *Mean Dis. Potential by Capacity*, *Mean Ch. Potential by Capacity*\n",
    "- From the 'Cycle Trace:' dropdown you can select which trace to view in the per cycle plot. \n",
    "- To view the data removed by the LOF algorithm - select the 'Anomalous \\<Trace Name\\>' trace from the plot's legend.\n",
    "- From the 'Cycle:' dropdown you can select a cycle number to plot and explore that cycle's timeseries data"
   ]
  },
  {
   "cell_type": "code",
   "execution_count": 13,
   "id": "92d8757f-94cf-45fa-a3de-2e9a506a840c",
   "metadata": {
    "tags": []
   },
   "outputs": [],
   "source": [
    "import pandas as pd\n",
    "import numpy as np\n",
    "from sklearn.preprocessing import MinMaxScaler\n",
    "from IPython.display import display, Markdown\n",
    "import voltaiq_studio as vs\n",
    "import plotly.graph_objects as go\n",
    "import ipywidgets as widgets\n",
    "from ipywidgets import interactive, fixed\n",
    "\n",
    "from sklearn.neighbors import LocalOutlierFactor\n",
    "\n",
    "import utils"
   ]
  },
  {
   "cell_type": "code",
   "execution_count": 10,
   "id": "e9c2a951-60f4-4014-add3-2bf1bb5665cf",
   "metadata": {},
   "outputs": [],
   "source": [
    "trs = vs.get_test_records()"
   ]
  },
  {
   "cell_type": "code",
   "execution_count": 14,
   "id": "f4b656d0-78bd-4cc1-b885-82c6a5e6c3d6",
   "metadata": {
    "tags": []
   },
   "outputs": [
    {
     "data": {
      "application/vnd.jupyter.widget-view+json": {
       "model_id": "532fda8f14634fd1af44ba105e77ba3e",
       "version_major": 2,
       "version_minor": 0
      },
      "text/plain": [
       "interactive(children=(Dropdown(description='Dataset:', options=('Severson2019 - All (LFP)', 'Severson2019 - Tr…"
      ]
     },
     "metadata": {},
     "output_type": "display_data"
    }
   ],
   "source": [
    "anomalies_widget = interactive(utils.detect_anomalies, dataset = widgets.Dropdown(description=\"Dataset:\",options=utils.std_train_datasets),trs = fixed(trs))#, value = 'Severson2019 - All (LFP)'))\n",
    "display(anomalies_widget)"
   ]
  },
  {
   "cell_type": "code",
   "execution_count": null,
   "id": "db7fa405-89e9-465a-a222-93c109c33e15",
   "metadata": {},
   "outputs": [],
   "source": []
  }
 ],
 "metadata": {
  "kernelspec": {
   "display_name": "Python 3 (ipykernel)",
   "language": "python",
   "name": "python3"
  },
  "language_info": {
   "codemirror_mode": {
    "name": "ipython",
    "version": 3
   },
   "file_extension": ".py",
   "mimetype": "text/x-python",
   "name": "python",
   "nbconvert_exporter": "python",
   "pygments_lexer": "ipython3",
   "version": "3.9.6"
  }
 },
 "nbformat": 4,
 "nbformat_minor": 5
}
